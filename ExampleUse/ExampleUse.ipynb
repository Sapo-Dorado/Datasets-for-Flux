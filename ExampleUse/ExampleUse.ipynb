{
 "cells": [
  {
   "cell_type": "code",
   "execution_count": 1,
   "metadata": {},
   "outputs": [],
   "source": [
    "using SapoDatasets\n",
    "using Flux"
   ]
  },
  {
   "cell_type": "code",
   "execution_count": 2,
   "metadata": {
    "scrolled": true
   },
   "outputs": [
    {
     "data": {
      "text/plain": [
       "ImageList([\"Images/Cats/Cat1.jpeg\", \"Images/Cats/Cat10.jpeg\", \"Images/Cats/Cat2.jpeg\", \"Images/Cats/Cat3.jpeg\", \"Images/Cats/Cat4.jpeg\", \"Images/Cats/Cat5.jpeg\", \"Images/Cats/Cat6.jpeg\", \"Images/Cats/Cat7.jpeg\", \"Images/Cats/Cat8.jpeg\", \"Images/Cats/Cat9.jpeg\", \"Images/Dogs/Dog1.jpeg\", \"Images/Dogs/Dog10.jpeg\", \"Images/Dogs/Dog2.jpeg\", \"Images/Dogs/Dog3.jpeg\", \"Images/Dogs/Dog4.jpeg\", \"Images/Dogs/Dog5.jpeg\", \"Images/Dogs/Dog6.jpeg\", \"Images/Dogs/Dog7.jpeg\", \"Images/Dogs/Dog8.jpeg\", \"Images/Dogs/Dog9.jpeg\"], SapoDatasets.imagelistget, 500)"
      ]
     },
     "execution_count": 2,
     "metadata": {},
     "output_type": "execute_result"
    }
   ],
   "source": [
    "il = ImageList_fromfolder(\"Images\", size=500)"
   ]
  },
  {
   "cell_type": "code",
   "execution_count": 3,
   "metadata": {},
   "outputs": [
    {
     "data": {
      "text/plain": [
       "SplitImageList([\"Images/Cats/Cat1.jpeg\", \"Images/Cats/Cat10.jpeg\", \"Images/Cats/Cat2.jpeg\", \"Images/Cats/Cat3.jpeg\", \"Images/Cats/Cat4.jpeg\", \"Images/Cats/Cat5.jpeg\", \"Images/Cats/Cat6.jpeg\", \"Images/Cats/Cat7.jpeg\", \"Images/Cats/Cat8.jpeg\", \"Images/Cats/Cat9.jpeg\", \"Images/Dogs/Dog1.jpeg\", \"Images/Dogs/Dog10.jpeg\", \"Images/Dogs/Dog2.jpeg\", \"Images/Dogs/Dog3.jpeg\", \"Images/Dogs/Dog4.jpeg\", \"Images/Dogs/Dog5.jpeg\", \"Images/Dogs/Dog6.jpeg\", \"Images/Dogs/Dog7.jpeg\", \"Images/Dogs/Dog8.jpeg\", \"Images/Dogs/Dog9.jpeg\"], SapoDatasets.imagelistget, 500, [1, 2, 3, 4, 7, 9, 10, 11, 12, 13, 14, 15, 17, 18, 19, 20], [5, 6, 8, 16])"
      ]
     },
     "execution_count": 3,
     "metadata": {},
     "output_type": "execute_result"
    }
   ],
   "source": [
    "sil = SplitImageList_byrandpct(il)"
   ]
  },
  {
   "cell_type": "code",
   "execution_count": 4,
   "metadata": {},
   "outputs": [
    {
     "data": {
      "text/plain": [
       "LabeledImageList([\"Images/Cats/Cat1.jpeg\", \"Images/Cats/Cat10.jpeg\", \"Images/Cats/Cat2.jpeg\", \"Images/Cats/Cat3.jpeg\", \"Images/Cats/Cat4.jpeg\", \"Images/Cats/Cat5.jpeg\", \"Images/Cats/Cat6.jpeg\", \"Images/Cats/Cat7.jpeg\", \"Images/Cats/Cat8.jpeg\", \"Images/Cats/Cat9.jpeg\", \"Images/Dogs/Dog1.jpeg\", \"Images/Dogs/Dog10.jpeg\", \"Images/Dogs/Dog2.jpeg\", \"Images/Dogs/Dog3.jpeg\", \"Images/Dogs/Dog4.jpeg\", \"Images/Dogs/Dog5.jpeg\", \"Images/Dogs/Dog6.jpeg\", \"Images/Dogs/Dog7.jpeg\", \"Images/Dogs/Dog8.jpeg\", \"Images/Dogs/Dog9.jpeg\"], Any[\"Cats\", \"Cats\", \"Cats\", \"Cats\", \"Cats\", \"Cats\", \"Cats\", \"Cats\", \"Cats\", \"Cats\", \"Dogs\", \"Dogs\", \"Dogs\", \"Dogs\", \"Dogs\", \"Dogs\", \"Dogs\", \"Dogs\", \"Dogs\", \"Dogs\"], SapoDatasets.imagelistget, identity, 500, [1, 2, 3, 4, 7, 9, 10, 11, 12, 13, 14, 15, 17, 18, 19, 20], [5, 6, 8, 16])"
      ]
     },
     "execution_count": 4,
     "metadata": {},
     "output_type": "execute_result"
    }
   ],
   "source": [
    "lil = LabeledImageList_fromfolder(sil)"
   ]
  },
  {
   "cell_type": "code",
   "execution_count": 5,
   "metadata": {},
   "outputs": [
    {
     "data": {
      "text/plain": [
       "ImageDataset([\"Images/Cats/Cat1.jpeg\", \"Images/Cats/Cat10.jpeg\", \"Images/Cats/Cat2.jpeg\", \"Images/Cats/Cat3.jpeg\", \"Images/Cats/Cat6.jpeg\", \"Images/Cats/Cat8.jpeg\", \"Images/Cats/Cat9.jpeg\", \"Images/Dogs/Dog1.jpeg\", \"Images/Dogs/Dog10.jpeg\", \"Images/Dogs/Dog2.jpeg\", \"Images/Dogs/Dog3.jpeg\", \"Images/Dogs/Dog4.jpeg\", \"Images/Dogs/Dog6.jpeg\", \"Images/Dogs/Dog7.jpeg\", \"Images/Dogs/Dog8.jpeg\", \"Images/Dogs/Dog9.jpeg\"], Any[\"Cats\", \"Cats\", \"Cats\", \"Cats\", \"Cats\", \"Cats\", \"Cats\", \"Dogs\", \"Dogs\", \"Dogs\", \"Dogs\", \"Dogs\", \"Dogs\", \"Dogs\", \"Dogs\", \"Dogs\"], SapoDatasets.imagelistget, identity, 500, \"train\", 2, [13, 3, 9, 10, 11, 6, 14, 7, 4, 2, 5, 12, 15, 1, 8, 16])"
      ]
     },
     "execution_count": 5,
     "metadata": {},
     "output_type": "execute_result"
    }
   ],
   "source": [
    "train_dset = getimage_dset(lil, 2)"
   ]
  },
  {
   "cell_type": "code",
   "execution_count": 6,
   "metadata": {
    "scrolled": true
   },
   "outputs": [
    {
     "data": {
      "text/plain": [
       "ImageDataset([\"Images/Cats/Cat4.jpeg\", \"Images/Cats/Cat5.jpeg\", \"Images/Cats/Cat7.jpeg\", \"Images/Dogs/Dog5.jpeg\"], Any[\"Cats\", \"Cats\", \"Cats\", \"Dogs\"], SapoDatasets.imagelistget, identity, 500, \"valid\", 1, [4, 2, 1, 3])"
      ]
     },
     "execution_count": 6,
     "metadata": {},
     "output_type": "execute_result"
    }
   ],
   "source": [
    "valid_dset = getimage_dset(lil, 1, \"valid\")"
   ]
  },
  {
   "cell_type": "code",
   "execution_count": 7,
   "metadata": {},
   "outputs": [
    {
     "data": {
      "text/plain": [
       "flatten (generic function with 1 method)"
      ]
     },
     "execution_count": 7,
     "metadata": {},
     "output_type": "execute_result"
    }
   ],
   "source": [
    "flatten(x) = reshape(x, 16, 1)"
   ]
  },
  {
   "cell_type": "code",
   "execution_count": 8,
   "metadata": {},
   "outputs": [
    {
     "data": {
      "text/plain": [
       "expand (generic function with 1 method)"
      ]
     },
     "execution_count": 8,
     "metadata": {},
     "output_type": "execute_result"
    }
   ],
   "source": [
    "expand(x) = reshape(x, size(x)..., 1)"
   ]
  },
  {
   "cell_type": "code",
   "execution_count": 9,
   "metadata": {},
   "outputs": [
    {
     "data": {
      "text/plain": [
       "Chain(expand, Conv((3, 3), 3=>16), MeanPool((250, 250), pad = (0, 0, 0, 0), stride = (250, 250)), flatten, Dense(16, 2), softmax)"
      ]
     },
     "execution_count": 9,
     "metadata": {},
     "output_type": "execute_result"
    }
   ],
   "source": [
    "model = Chain(expand, Conv((3,3), 3=>16, stride=2, pad=1),\n",
    "            MeanPool((250,250)), flatten, Dense(16, 2), softmax)"
   ]
  },
  {
   "cell_type": "code",
   "execution_count": 10,
   "metadata": {},
   "outputs": [
    {
     "data": {
      "text/plain": [
       "loss (generic function with 1 method)"
      ]
     },
     "execution_count": 10,
     "metadata": {},
     "output_type": "execute_result"
    }
   ],
   "source": [
    "function loss(x, y)\n",
    "    ŷ = model(x)[1]\n",
    "    if y == \"Cats\"\n",
    "        return -log(ŷ)\n",
    "    else\n",
    "        return -log(1-ŷ)\n",
    "    end\n",
    "end"
   ]
  },
  {
   "cell_type": "code",
   "execution_count": 11,
   "metadata": {
    "scrolled": true
   },
   "outputs": [
    {
     "data": {
      "text/plain": [
       "Trainer(ImageDataset([\"Images/Cats/Cat1.jpeg\", \"Images/Cats/Cat10.jpeg\", \"Images/Cats/Cat2.jpeg\", \"Images/Cats/Cat3.jpeg\", \"Images/Cats/Cat6.jpeg\", \"Images/Cats/Cat8.jpeg\", \"Images/Cats/Cat9.jpeg\", \"Images/Dogs/Dog1.jpeg\", \"Images/Dogs/Dog10.jpeg\", \"Images/Dogs/Dog2.jpeg\", \"Images/Dogs/Dog3.jpeg\", \"Images/Dogs/Dog4.jpeg\", \"Images/Dogs/Dog6.jpeg\", \"Images/Dogs/Dog7.jpeg\", \"Images/Dogs/Dog8.jpeg\", \"Images/Dogs/Dog9.jpeg\"], Any[\"Cats\", \"Cats\", \"Cats\", \"Cats\", \"Cats\", \"Cats\", \"Cats\", \"Dogs\", \"Dogs\", \"Dogs\", \"Dogs\", \"Dogs\", \"Dogs\", \"Dogs\", \"Dogs\", \"Dogs\"], SapoDatasets.imagelistget, identity, 500, \"train\", 2, [13, 3, 9, 10, 11, 6, 14, 7, 4, 2, 5, 12, 15, 1, 8, 16]), Chain(expand, Conv((3, 3), 3=>16), MeanPool((250, 250), pad = (0, 0, 0, 0), stride = (250, 250)), flatten, Dense(16, 2), softmax), loss, Momentum(0.01, 0.9, IdDict{Any,Any}()), Params([Float32[-0.25305682 0.14062907 -0.23311564; -0.31029773 0.12768707 -0.26362178; 0.3148916 0.41400838 0.11475442]\n",
       "\n",
       "Float32[0.2270211 -0.01559629 -0.0934259; -0.09958188 0.07806146 -0.18938357; 0.18050088 -0.31971607 0.3767145]\n",
       "\n",
       "Float32[-0.031498715 0.053040396 0.3201523; 0.32614303 0.36235443 0.4719397; -0.2923494 0.06608167 -0.42661667]\n",
       "\n",
       "Float32[-0.30264387 0.3327606 0.057416923; -0.17421804 0.37390366 -0.22358003; -0.22780636 -0.40122852 0.12021871]\n",
       "\n",
       "Float32[0.12756315 0.3833496 0.42182785; 0.27185145 0.12304564 -0.18068904; -0.23978789 0.055012345 0.35367215]\n",
       "\n",
       "Float32[0.4888778 -0.35808697 0.4047517; -0.44152385 0.014205076 0.15496413; -0.30870944 -0.04866866 -0.3981506]\n",
       "\n",
       "Float32[0.44634655 0.3496333 -0.009273397; -0.24772929 -0.031856827 -0.23747675; -0.1990055 -0.06656032 -0.30580556]\n",
       "\n",
       "Float32[0.45246026 0.0049386867 -0.2111383; -0.15312009 -0.34508565 0.07014529; 0.04835003 -0.35705236 0.07159665]\n",
       "\n",
       "Float32[-0.21221206 -0.24578609 0.12670396; -0.10953027 -0.23638046 0.17069463; 0.04124422 0.39282855 -0.011425919]\n",
       "\n",
       "...\n",
       "\n",
       "Float32[-0.34692362 0.48919246 0.24251741; 0.34567362 -0.25444183 -0.319514; 0.2450187 -0.0014700545 0.35386944]\n",
       "\n",
       "Float32[-0.19449583 0.39882007 0.25656375; 0.4845614 -0.39742395 -0.35995287; -0.13900132 0.35784674 -0.46925655]\n",
       "\n",
       "Float32[0.22036381 -0.461453 -0.21957552; -0.2235158 -0.26885855 0.45035806; 0.05281147 -0.025231652 -0.046965122]\n",
       "\n",
       "Float32[-0.22770251 0.3954818 0.12788703; -0.32227248 -0.29278204 0.048815362; 0.11864517 -0.18955936 -0.28337374]\n",
       "\n",
       "Float32[-0.04844931 -0.29417104 0.006014072; -0.4499626 0.030716851 0.41499898; 0.1687443 -0.4020494 -0.41453633]\n",
       "\n",
       "Float32[0.14867909 0.22286779 0.14545597; 0.07082156 -0.052958988 0.004217092; -0.37223038 -0.34121266 0.31231743]\n",
       "\n",
       "Float32[0.36135706 0.21175933 -0.3833837; -0.46858916 -0.17359199 -0.29509246; -0.4399315 -0.48505875 0.17921723]\n",
       "\n",
       "Float32[-0.079227716 -0.025403466 -0.33187923; 0.1306621 -0.44894582 0.16059358; 0.19947271 -0.366821 0.32678682]\n",
       "\n",
       "Float32[0.42428803 -0.4821878 -0.18761544; -0.19430427 0.2586454 0.036081742; -0.24508843 -0.054299276 0.07929137] (tracked), Float32[0.0, 0.0, 0.0, 0.0, 0.0, 0.0, 0.0, 0.0, 0.0, 0.0, 0.0, 0.0, 0.0, 0.0, 0.0, 0.0] (tracked), Float32[-0.4439002 0.37752005 … -0.44664648 0.2121216; 0.10531666 -0.16904524 … 0.032643802 0.34776005] (tracked), Float32[0.0, 0.0] (tracked)]), getfield(SapoDatasets, Symbol(\"##8#10\"))())"
      ]
     },
     "execution_count": 11,
     "metadata": {},
     "output_type": "execute_result"
    }
   ],
   "source": [
    "trainer = Trainer(train_dset, model, loss, opt=Momentum())"
   ]
  },
  {
   "cell_type": "code",
   "execution_count": 12,
   "metadata": {
    "scrolled": true
   },
   "outputs": [],
   "source": [
    "fit_one_cycle(trainer, 1)"
   ]
  },
  {
   "cell_type": "code",
   "execution_count": 13,
   "metadata": {},
   "outputs": [],
   "source": [
    "x = train_dset[1][2][1];"
   ]
  },
  {
   "cell_type": "code",
   "execution_count": 14,
   "metadata": {},
   "outputs": [
    {
     "data": {
      "text/plain": [
       "Tracked 2×1 Array{Float32,2}:\n",
       " 0.33326948f0\n",
       " 0.6667306f0 "
      ]
     },
     "execution_count": 14,
     "metadata": {},
     "output_type": "execute_result"
    }
   ],
   "source": [
    "predict(trainer, x)"
   ]
  },
  {
   "cell_type": "code",
   "execution_count": null,
   "metadata": {},
   "outputs": [],
   "source": []
  }
 ],
 "metadata": {
  "kernelspec": {
   "display_name": "Julia 1.2.0",
   "language": "julia",
   "name": "julia-1.2"
  },
  "language_info": {
   "file_extension": ".jl",
   "mimetype": "application/julia",
   "name": "julia",
   "version": "1.2.0"
  }
 },
 "nbformat": 4,
 "nbformat_minor": 2
}
